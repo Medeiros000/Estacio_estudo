{
 "cells": [
  {
   "cell_type": "code",
   "execution_count": 1,
   "id": "3cef300a-ae25-450f-9518-66047e173ea4",
   "metadata": {},
   "outputs": [
    {
     "name": "stdout",
     "output_type": "stream",
     "text": [
      "QGIS Core importado com sucesso.\n",
      "QGIS Gui importado com sucesso.\n"
     ]
    }
   ],
   "source": [
    "import sys\n",
    "import os\n",
    "\n",
    "# Defina o caminho para o QGIS\n",
    "qgis_path = 'C:/OSGeo4W/apps/qgis'\n",
    "qgis_python_path = os.path.join(qgis_path, 'python')\n",
    "qgis_plugins_path = os.path.join(qgis_python_path, 'plugins')\n",
    "qgis_bin_path = os.path.join(qgis_path, 'bin')\n",
    "qgis_lib_path = os.path.join(qgis_path, 'lib')\n",
    "\n",
    "# Adicione os diretórios necessários ao sys.path\n",
    "sys.path.append(qgis_python_path)\n",
    "sys.path.append(qgis_plugins_path)\n",
    "\n",
    "# Configurações do QGIS\n",
    "os.environ['QGIS_PREFIX_PATH'] = qgis_path\n",
    "os.environ['QGIS_PATH'] = qgis_path\n",
    "\n",
    "# Adicione os diretórios de DLL do QGIS ao PATH\n",
    "os.environ['PATH'] += os.pathsep + qgis_bin_path\n",
    "os.environ['PATH'] += os.pathsep + qgis_lib_path\n",
    "\n",
    "# Importa o módulo qgis.core\n",
    "try:\n",
    "    from qgis.core import QgsApplication, QgsProject, QgsVectorLayer, QgsFeature\n",
    "    print(\"QGIS Core importado com sucesso.\")\n",
    "except ImportError as e:\n",
    "    print(f\"Erro ao importar QGIS: {e}\")\n",
    "\n",
    "# Importa o módulo qgis.gui\n",
    "try:\n",
    "    from qgis.gui import QgsMapCanvasUtils\n",
    "    print(\"QGIS Gui importado com sucesso.\")\n",
    "except ImportError as e:\n",
    "    print(f\"Erro ao importar QGIS: {e}\")\n",
    "\n",
    "# Inicializa a aplicação QGIS\n",
    "if 'QgsApplication' in globals():\n",
    "    QgsApplication.setPrefixPath(qgis_path, True)\n",
    "    qgs = QgsApplication([], False)\n",
    "    qgs.initQgis()\n",
    "\n",
    "    # Carrega um projeto QGIS (opcional)\n",
    "    project = QgsProject.instance()\n",
    "    project.read('/path/to/your/project.qgz')\n",
    "\n",
    "    # Seu código QGIS aqui\n",
    "    # Exemplo: cria uma nova camada vetorial\n",
    "    uri = \"Point?crs=epsg:4326&field=id:integer&field=name:string(20)&index=yes\"\n",
    "    layer = QgsVectorLayer(uri, \"layer_name\", \"memory\")\n",
    "    provider = layer.dataProvider()\n",
    "    provider.addFeatures([QgsFeature(), QgsFeature()])\n",
    "    QgsProject.instance().addMapLayer(layer)\n",
    "\n",
    "    # exibir em uma celula um mapa\n",
    "    from IPython.display import Image\n",
    "    from qgis.PyQt.QtGui import QImage, QPainter\n",
    "    from qgis.PyQt.QtCore import QSize\n",
    "\n",
    "    img = QImage(QSize(800, 600), QImage.Format_ARGB32_Premultiplied)\n",
    "    img.fill(0)\n",
    "    painter = QPainter(img)\n",
    "    canvas = QgsMapCanvas()\n",
    "    canvas.resize(800, 600)\n",
    "    canvas.setExtent(layer.extent())\n",
    "    canvas.setLayers([layer])\n",
    "    canvas.refresh()\n",
    "    canvas.render(painter)\n",
    "    painter.end()\n",
    "    img.save('map.png', 'PNG')\n",
    "    Image('map.png')\n",
    "    \n",
    "\n",
    "\n",
    "    # Finaliza a aplicação QGIS\n",
    "    qgs.exitQgis()\n",
    "else:\n",
    "    print(\"QgsApplication não está definido. Verifique a importação do QGIS.\")"
   ]
  },
  {
   "cell_type": "code",
   "execution_count": null,
   "id": "d688ff0d",
   "metadata": {},
   "outputs": [],
   "source": []
  }
 ],
 "metadata": {
  "kernelspec": {
   "display_name": "Python 3 (ipykernel)",
   "language": "python",
   "name": "python3"
  },
  "language_info": {
   "codemirror_mode": {
    "name": "ipython",
    "version": 3
   },
   "file_extension": ".py",
   "mimetype": "text/x-python",
   "name": "python",
   "nbconvert_exporter": "python",
   "pygments_lexer": "ipython3",
   "version": "3.12.6"
  }
 },
 "nbformat": 4,
 "nbformat_minor": 5
}
