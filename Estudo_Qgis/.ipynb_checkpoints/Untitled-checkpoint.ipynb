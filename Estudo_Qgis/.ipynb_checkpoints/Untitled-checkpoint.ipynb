{
 "cells": [
  {
   "cell_type": "code",
   "execution_count": null,
   "id": "62480e4b-e6f5-4bcc-85ea-fb50775ed608",
   "metadata": {},
   "outputs": [],
   "source": []
  },
  {
   "cell_type": "code",
   "execution_count": 1,
   "id": "3cef300a-ae25-450f-9518-66047e173ea4",
   "metadata": {},
   "outputs": [
    {
     "name": "stdout",
     "output_type": "stream",
     "text": [
      "QGIS importado com sucesso.\n"
     ]
    }
   ],
   "source": [
    "import sys\n",
    "import os\n",
    "\n",
    "# Defina o caminho para o QGIS\n",
    "qgis_path = 'C:/OSGeo4W/apps/qgis'\n",
    "qgis_python_path = os.path.join(qgis_path, 'python')\n",
    "qgis_plugins_path = os.path.join(qgis_python_path, 'plugins')\n",
    "qgis_bin_path = os.path.join(qgis_path, 'bin')\n",
    "qgis_lib_path = os.path.join(qgis_path, 'lib')\n",
    "\n",
    "# Adicione os diretórios necessários ao sys.path\n",
    "sys.path.append(qgis_python_path)\n",
    "sys.path.append(qgis_plugins_path)\n",
    "\n",
    "# Configurações do QGIS\n",
    "os.environ['QGIS_PREFIX_PATH'] = qgis_path\n",
    "os.environ['QGIS_PATH'] = qgis_path\n",
    "\n",
    "# Adicione os diretórios de DLL do QGIS ao PATH\n",
    "os.environ['PATH'] += os.pathsep + qgis_bin_path\n",
    "os.environ['PATH'] += os.pathsep + qgis_lib_path\n",
    "\n",
    "# Importa o módulo qgis.core\n",
    "try:\n",
    "    from qgis.core import QgsApplication, QgsProject\n",
    "    print(\"QGIS importado com sucesso.\")\n",
    "except ImportError as e:\n",
    "    print(f\"Erro ao importar QGIS: {e}\")\n",
    "\n",
    "# Inicializa a aplicação QGIS\n",
    "if 'QgsApplication' in globals():\n",
    "    QgsApplication.setPrefixPath(qgis_path, True)\n",
    "    qgs = QgsApplication([], False)\n",
    "    qgs.initQgis()\n",
    "\n",
    "    # Carrega um projeto QGIS (opcional)\n",
    "    project = QgsProject.instance()\n",
    "    project.read('/path/to/your/project.qgz')\n",
    "\n",
    "    # Seu código QGIS aqui\n",
    "\n",
    "    # Finaliza a aplicação QGIS\n",
    "    qgs.exitQgis()\n",
    "else:\n",
    "    print(\"QgsApplication não está definido. Verifique a importação do QGIS.\")"
   ]
  },
  {
   "cell_type": "code",
   "execution_count": null,
   "id": "a8c37b64-b392-4302-a327-157c62d5a118",
   "metadata": {},
   "outputs": [],
   "source": []
  }
 ],
 "metadata": {
  "kernelspec": {
   "display_name": "Python 3 (ipykernel)",
   "language": "python",
   "name": "python3"
  },
  "language_info": {
   "codemirror_mode": {
    "name": "ipython",
    "version": 3
   },
   "file_extension": ".py",
   "mimetype": "text/x-python",
   "name": "python",
   "nbconvert_exporter": "python",
   "pygments_lexer": "ipython3",
   "version": "3.12.6"
  }
 },
 "nbformat": 4,
 "nbformat_minor": 5
}
